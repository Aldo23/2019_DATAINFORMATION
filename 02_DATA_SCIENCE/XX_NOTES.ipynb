{
 "cells": [
  {
   "cell_type": "code",
   "execution_count": null,
   "metadata": {},
   "outputs": [],
   "source": [
    "#github link: 'https://nbviewer.jupyter.org/github/jmportilla/Udemy-notes/tree/master/'\n",
    "\n",
    "#TOPICS:\n",
    "#LINEAR REGRESSION: https://en.wikipedia.org/wiki/Linear_regression\n",
    "#COVARIANCE\n",
    "#CORRELATION\n",
    "#VIOLIN PLOT\n",
    "#SEABORN: 'https://seaborn.pydata.org/generated/seaborn.catplot.html'"
   ]
  }
 ],
 "metadata": {
  "kernelspec": {
   "display_name": "Python 3",
   "language": "python",
   "name": "python3"
  },
  "language_info": {
   "codemirror_mode": {
    "name": "ipython",
    "version": 3
   },
   "file_extension": ".py",
   "mimetype": "text/x-python",
   "name": "python",
   "nbconvert_exporter": "python",
   "pygments_lexer": "ipython3",
   "version": "3.7.3"
  }
 },
 "nbformat": 4,
 "nbformat_minor": 2
}
