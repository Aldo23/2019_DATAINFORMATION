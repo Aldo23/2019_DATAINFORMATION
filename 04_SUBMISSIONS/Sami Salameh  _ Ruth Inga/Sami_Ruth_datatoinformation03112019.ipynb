{
 "cells": [
  {
   "cell_type": "markdown",
   "metadata": {},
   "source": [
    "EVENTS IN PARIS By: SAMI SALAMEH and RUTH INGA"
   ]
  },
  {
   "cell_type": "markdown",
   "metadata": {},
   "source": [
    "THE PURPOSE OF THIS CODE IS TO ANALYSE THE EVENTS HAPPENING IN PARIS THIS YEAR.\n",
    "\n",
    "Project objectives: \n",
    "\n",
    "1.data gathering / dataset.\n",
    "\n",
    "2.data analytics.\n",
    "\n",
    "3.data visualization.\n",
    "\n",
    "THIS EXERCISE PURPOSE IS THE FOLLOWING:\n",
    "\n",
    "a-Sort the list of events by categories( show the grading in columns and also in a diagram)\n",
    "\n",
    "b-display the events between free and paid.\n",
    "\n",
    "c-Time and duration of events.\n",
    "\n",
    "d-Rank the most popular event.\n",
    "\n",
    "e-compare the events based on their category.\n",
    "\n",
    "f-check the events entry methods (reservation,recommendation or open event).\n",
    "\n",
    "g-display the location of the events on Paris map."
   ]
  },
  {
   "cell_type": "markdown",
   "metadata": {},
   "source": [
    "\n",
    "LIBRAIRIES USED\n",
    "\n",
    "- Numpy\n",
    "- Pandas\n",
    "- Seaborn\n",
    "- Matplotlib\n",
    "- datetime\n",
    "- dateutil\n",
    "- folium\n",
    "- descartes\n",
    "\n",
    "CSV DATA FILE\n",
    "\n",
    "- que-faire-a-paris-.csv downloaded from  www.opendata.paris.fr"
   ]
  },
  {
   "cell_type": "code",
   "execution_count": 1,
   "metadata": {},
   "outputs": [],
   "source": [
    "import numpy as np\n",
    "import pandas as pd\n",
    "from pandas import Series,DataFrame\n",
    "import matplotlib as mpl\n",
    "import matplotlib.pyplot as plt\n",
    "import seaborn as sns\n",
    "from datetime import datetime\n",
    "from dateutil import parser\n",
    "import pandas as pd\n",
    "import folium\n",
    "from pandas import DataFrame\n",
    "from folium.plugins import MarkerCluster\n",
    "import descartes\n",
    "import matplotlib.cm as cm \n",
    "#here we are importing the librairies we might need"
   ]
  },
  {
   "cell_type": "code",
   "execution_count": 2,
   "metadata": {},
   "outputs": [
    {
     "data": {
      "text/html": [
       "<div>\n",
       "<style scoped>\n",
       "    .dataframe tbody tr th:only-of-type {\n",
       "        vertical-align: middle;\n",
       "    }\n",
       "\n",
       "    .dataframe tbody tr th {\n",
       "        vertical-align: top;\n",
       "    }\n",
       "\n",
       "    .dataframe thead th {\n",
       "        text-align: right;\n",
       "    }\n",
       "</style>\n",
       "<table border=\"1\" class=\"dataframe\">\n",
       "  <thead>\n",
       "    <tr style=\"text-align: right;\">\n",
       "      <th></th>\n",
       "      <th>ID</th>\n",
       "      <th>URL</th>\n",
       "      <th>Titre</th>\n",
       "      <th>Chapeau</th>\n",
       "      <th>Description</th>\n",
       "      <th>Catégorie</th>\n",
       "      <th>Mots clés</th>\n",
       "      <th>Date de début</th>\n",
       "      <th>Date de fin</th>\n",
       "      <th>Occurrences</th>\n",
       "      <th>...</th>\n",
       "      <th>Téléphone de réservation</th>\n",
       "      <th>Email de réservation</th>\n",
       "      <th>Type de prix</th>\n",
       "      <th>Détail du prix</th>\n",
       "      <th>Image de couverture</th>\n",
       "      <th>URL de l'image</th>\n",
       "      <th>Crédit de l'image</th>\n",
       "      <th>Texte alternatif de l'image</th>\n",
       "      <th>Programmes</th>\n",
       "      <th>Date de mise à jour</th>\n",
       "    </tr>\n",
       "  </thead>\n",
       "  <tbody>\n",
       "    <tr>\n",
       "      <td>0</td>\n",
       "      <td>92223</td>\n",
       "      <td>https://quefaire.paris.fr/92223/atelier-de-par...</td>\n",
       "      <td>Atelier de Paris, centre de danse de la Cartou...</td>\n",
       "      <td>L'équipe de l'Atelier de Paris / CDCN vient à ...</td>\n",
       "      <td>&lt;p&gt;Sera présenté notamment leur prochain spect...</td>\n",
       "      <td>Spectacles -&gt; Danse</td>\n",
       "      <td>Musique;Bibliothèques;En famille</td>\n",
       "      <td>2019-11-07T19:00:00+01:00</td>\n",
       "      <td>2019-11-07T20:30:00+01:00</td>\n",
       "      <td>2019-11-07T19:00:00+01:00_2019-11-07T20:30:00+...</td>\n",
       "      <td>...</td>\n",
       "      <td>NaN</td>\n",
       "      <td>NaN</td>\n",
       "      <td>gratuit</td>\n",
       "      <td>NaN</td>\n",
       "      <td>https://opendata.paris.fr/api/v2/catalog/datas...</td>\n",
       "      <td>https://quefaire-api.paris.fr/images/61309</td>\n",
       "      <td>Grégory Batardon</td>\n",
       "      <td>Ruth Childs</td>\n",
       "      <td>NaN</td>\n",
       "      <td>2019-10-18T17:44:23+02:00</td>\n",
       "    </tr>\n",
       "    <tr>\n",
       "      <td>1</td>\n",
       "      <td>92219</td>\n",
       "      <td>https://quefaire.paris.fr/92219/bestiaire-de-b...</td>\n",
       "      <td>Bestiaire de bestioles</td>\n",
       "      <td>Rencontre/Coloriage</td>\n",
       "      <td>&lt;p&gt;&lt;b&gt;Aude Villerouge&lt;/b&gt; puise son inspiratio...</td>\n",
       "      <td>Animations -&gt; Autre animation</td>\n",
       "      <td>Insolite;Ados;Enfants</td>\n",
       "      <td>2019-11-06T19:00:00+01:00</td>\n",
       "      <td>2019-11-06T21:00:00+01:00</td>\n",
       "      <td>2019-11-06T19:00:00+01:00_2019-11-06T21:00:00+...</td>\n",
       "      <td>...</td>\n",
       "      <td>143368119.0</td>\n",
       "      <td>librairie@lesediteursassocies.com</td>\n",
       "      <td>gratuit</td>\n",
       "      <td>NaN</td>\n",
       "      <td>https://opendata.paris.fr/api/v2/catalog/datas...</td>\n",
       "      <td>https://quefaire-api.paris.fr/images/61306</td>\n",
       "      <td>Solo ma non troppo</td>\n",
       "      <td>Bestiaire de bestioles</td>\n",
       "      <td>NaN</td>\n",
       "      <td>2019-10-18T17:03:07+02:00</td>\n",
       "    </tr>\n",
       "    <tr>\n",
       "      <td>2</td>\n",
       "      <td>83030</td>\n",
       "      <td>https://quefaire.paris.fr/83030/a-la-recherche...</td>\n",
       "      <td>A la recherche des écrivains disparus: Proust ...</td>\n",
       "      <td>Conférences littéraires des cycles culturels d...</td>\n",
       "      <td>&lt;p style=\"\" class=\"\"&gt;Partez sur les traces de ...</td>\n",
       "      <td>Animations -&gt; Conférence / Débat</td>\n",
       "      <td>Bibliothèques</td>\n",
       "      <td>2019-10-22T19:00:00+02:00</td>\n",
       "      <td>2019-10-22T20:30:00+02:00</td>\n",
       "      <td>2019-10-22T19:00:00+02:00_2019-10-22T20:30:00+...</td>\n",
       "      <td>...</td>\n",
       "      <td>NaN</td>\n",
       "      <td>NaN</td>\n",
       "      <td>gratuit</td>\n",
       "      <td>NaN</td>\n",
       "      <td>https://opendata.paris.fr/api/v2/catalog/datas...</td>\n",
       "      <td>https://quefaire-api.paris.fr/images/54834</td>\n",
       "      <td>cr MC</td>\n",
       "      <td>proust et gide</td>\n",
       "      <td>NaN</td>\n",
       "      <td>2019-10-18T13:28:42+02:00</td>\n",
       "    </tr>\n",
       "    <tr>\n",
       "      <td>3</td>\n",
       "      <td>92134</td>\n",
       "      <td>https://quefaire.paris.fr/92134/didon-et-enee-...</td>\n",
       "      <td>Didon et Enée de Purcell par Opéra Côté Choeur</td>\n",
       "      <td>Cet opéra de chambre mêle magistralement, tell...</td>\n",
       "      <td>&lt;p&gt;Quelques chaises et autant de voiles suffir...</td>\n",
       "      <td>Spectacles -&gt; Opéra / Musical</td>\n",
       "      <td>Les Nuits;Musique;En famille</td>\n",
       "      <td>2020-01-11T20:00:00+01:00</td>\n",
       "      <td>2020-01-12T19:00:00+01:00</td>\n",
       "      <td>2020-01-11T20:00:00+01:00_2020-01-11T22:00:00+...</td>\n",
       "      <td>...</td>\n",
       "      <td>624367112.0</td>\n",
       "      <td>NaN</td>\n",
       "      <td>payant</td>\n",
       "      <td>Tarif plein : 19 euros\\nEtudiants, groupes : 1...</td>\n",
       "      <td>https://opendata.paris.fr/api/v2/catalog/datas...</td>\n",
       "      <td>https://quefaire-api.paris.fr/images/26771</td>\n",
       "      <td>Opéra Comique - Fabrice Labit</td>\n",
       "      <td>La leçon de Christophe Grapperon</td>\n",
       "      <td>NaN</td>\n",
       "      <td>2019-10-18T10:46:53+02:00</td>\n",
       "    </tr>\n",
       "    <tr>\n",
       "      <td>4</td>\n",
       "      <td>92159</td>\n",
       "      <td>https://quefaire.paris.fr/92159/lcdr-party-2</td>\n",
       "      <td>LCDR Party #2</td>\n",
       "      <td>Artichaut Records x Loom débarquent aux Disqua...</td>\n",
       "      <td>&lt;p&gt;La Cour de Récré, Artichaut Records et Loom...</td>\n",
       "      <td>Concerts -&gt; Hip-Hop</td>\n",
       "      <td>Musique</td>\n",
       "      <td>2019-11-07T20:00:00+01:00</td>\n",
       "      <td>2019-11-08T02:00:00+01:00</td>\n",
       "      <td>2019-11-07T20:00:00+01:00_2019-11-08T02:00:00+...</td>\n",
       "      <td>...</td>\n",
       "      <td>NaN</td>\n",
       "      <td>NaN</td>\n",
       "      <td>payant</td>\n",
       "      <td>Accès concert 5EUR</td>\n",
       "      <td>https://opendata.paris.fr/api/v2/catalog/datas...</td>\n",
       "      <td>https://pro.sowprog.com/downloads?name=img_eve...</td>\n",
       "      <td>NaN</td>\n",
       "      <td>NaN</td>\n",
       "      <td>NaN</td>\n",
       "      <td>2019-10-18T09:52:41+02:00</td>\n",
       "    </tr>\n",
       "  </tbody>\n",
       "</table>\n",
       "<p>5 rows × 38 columns</p>\n",
       "</div>"
      ],
      "text/plain": [
       "      ID                                                URL  \\\n",
       "0  92223  https://quefaire.paris.fr/92223/atelier-de-par...   \n",
       "1  92219  https://quefaire.paris.fr/92219/bestiaire-de-b...   \n",
       "2  83030  https://quefaire.paris.fr/83030/a-la-recherche...   \n",
       "3  92134  https://quefaire.paris.fr/92134/didon-et-enee-...   \n",
       "4  92159       https://quefaire.paris.fr/92159/lcdr-party-2   \n",
       "\n",
       "                                               Titre  \\\n",
       "0  Atelier de Paris, centre de danse de la Cartou...   \n",
       "1                             Bestiaire de bestioles   \n",
       "2  A la recherche des écrivains disparus: Proust ...   \n",
       "3     Didon et Enée de Purcell par Opéra Côté Choeur   \n",
       "4                                      LCDR Party #2   \n",
       "\n",
       "                                             Chapeau  \\\n",
       "0  L'équipe de l'Atelier de Paris / CDCN vient à ...   \n",
       "1                                Rencontre/Coloriage   \n",
       "2  Conférences littéraires des cycles culturels d...   \n",
       "3  Cet opéra de chambre mêle magistralement, tell...   \n",
       "4  Artichaut Records x Loom débarquent aux Disqua...   \n",
       "\n",
       "                                         Description  \\\n",
       "0  <p>Sera présenté notamment leur prochain spect...   \n",
       "1  <p><b>Aude Villerouge</b> puise son inspiratio...   \n",
       "2  <p style=\"\" class=\"\">Partez sur les traces de ...   \n",
       "3  <p>Quelques chaises et autant de voiles suffir...   \n",
       "4  <p>La Cour de Récré, Artichaut Records et Loom...   \n",
       "\n",
       "                          Catégorie                         Mots clés  \\\n",
       "0               Spectacles -> Danse  Musique;Bibliothèques;En famille   \n",
       "1     Animations -> Autre animation             Insolite;Ados;Enfants   \n",
       "2  Animations -> Conférence / Débat                     Bibliothèques   \n",
       "3     Spectacles -> Opéra / Musical      Les Nuits;Musique;En famille   \n",
       "4               Concerts -> Hip-Hop                           Musique   \n",
       "\n",
       "               Date de début                Date de fin  \\\n",
       "0  2019-11-07T19:00:00+01:00  2019-11-07T20:30:00+01:00   \n",
       "1  2019-11-06T19:00:00+01:00  2019-11-06T21:00:00+01:00   \n",
       "2  2019-10-22T19:00:00+02:00  2019-10-22T20:30:00+02:00   \n",
       "3  2020-01-11T20:00:00+01:00  2020-01-12T19:00:00+01:00   \n",
       "4  2019-11-07T20:00:00+01:00  2019-11-08T02:00:00+01:00   \n",
       "\n",
       "                                         Occurrences  ...  \\\n",
       "0  2019-11-07T19:00:00+01:00_2019-11-07T20:30:00+...  ...   \n",
       "1  2019-11-06T19:00:00+01:00_2019-11-06T21:00:00+...  ...   \n",
       "2  2019-10-22T19:00:00+02:00_2019-10-22T20:30:00+...  ...   \n",
       "3  2020-01-11T20:00:00+01:00_2020-01-11T22:00:00+...  ...   \n",
       "4  2019-11-07T20:00:00+01:00_2019-11-08T02:00:00+...  ...   \n",
       "\n",
       "  Téléphone de réservation               Email de réservation Type de prix  \\\n",
       "0                      NaN                                NaN      gratuit   \n",
       "1              143368119.0  librairie@lesediteursassocies.com      gratuit   \n",
       "2                      NaN                                NaN      gratuit   \n",
       "3              624367112.0                                NaN       payant   \n",
       "4                      NaN                                NaN       payant   \n",
       "\n",
       "                                      Détail du prix  \\\n",
       "0                                                NaN   \n",
       "1                                                NaN   \n",
       "2                                                NaN   \n",
       "3  Tarif plein : 19 euros\\nEtudiants, groupes : 1...   \n",
       "4                                 Accès concert 5EUR   \n",
       "\n",
       "                                 Image de couverture  \\\n",
       "0  https://opendata.paris.fr/api/v2/catalog/datas...   \n",
       "1  https://opendata.paris.fr/api/v2/catalog/datas...   \n",
       "2  https://opendata.paris.fr/api/v2/catalog/datas...   \n",
       "3  https://opendata.paris.fr/api/v2/catalog/datas...   \n",
       "4  https://opendata.paris.fr/api/v2/catalog/datas...   \n",
       "\n",
       "                                      URL de l'image  \\\n",
       "0         https://quefaire-api.paris.fr/images/61309   \n",
       "1         https://quefaire-api.paris.fr/images/61306   \n",
       "2         https://quefaire-api.paris.fr/images/54834   \n",
       "3         https://quefaire-api.paris.fr/images/26771   \n",
       "4  https://pro.sowprog.com/downloads?name=img_eve...   \n",
       "\n",
       "               Crédit de l'image       Texte alternatif de l'image  \\\n",
       "0               Grégory Batardon                       Ruth Childs   \n",
       "1             Solo ma non troppo            Bestiaire de bestioles   \n",
       "2                          cr MC                    proust et gide   \n",
       "3  Opéra Comique - Fabrice Labit  La leçon de Christophe Grapperon   \n",
       "4                            NaN                               NaN   \n",
       "\n",
       "   Programmes        Date de mise à jour  \n",
       "0         NaN  2019-10-18T17:44:23+02:00  \n",
       "1         NaN  2019-10-18T17:03:07+02:00  \n",
       "2         NaN  2019-10-18T13:28:42+02:00  \n",
       "3         NaN  2019-10-18T10:46:53+02:00  \n",
       "4         NaN  2019-10-18T09:52:41+02:00  \n",
       "\n",
       "[5 rows x 38 columns]"
      ]
     },
     "execution_count": 2,
     "metadata": {},
     "output_type": "execute_result"
    }
   ],
   "source": [
    "#here we are importing the csv file, naming it \"dframe\" and showing  some lines in the columns.\n",
    "dframe=pd.read_csv('que-faire-a-paris-.csv',sep=';')\n",
    "dframe.head(5)"
   ]
  },
  {
   "cell_type": "code",
   "execution_count": 3,
   "metadata": {},
   "outputs": [
    {
     "data": {
      "text/plain": [
       "Index(['ID', 'URL', 'Titre', 'Chapeau', 'Description', 'Catégorie',\n",
       "       'Mots clés', 'Date de début', 'Date de fin', 'Occurrences',\n",
       "       'Description de la date', 'Nom du lieu', 'Adresse du lieu',\n",
       "       'Code postal', 'Ville', 'Coordonnées géographiques', 'Accès PMR',\n",
       "       'Accès mal voyant', 'Accès mal entendant', 'Transport',\n",
       "       'Nom de contact', 'Téléphone de contact', 'Email de contact',\n",
       "       'Url de contact', 'URL Facebook associée', 'URL Twitter associée',\n",
       "       'Type d'accès', 'URL de réservation', 'Téléphone de réservation',\n",
       "       'Email de réservation', 'Type de prix', 'Détail du prix',\n",
       "       'Image de couverture', 'URL de l'image', 'Crédit de l'image',\n",
       "       'Texte alternatif de l'image', 'Programmes', 'Date de mise à jour'],\n",
       "      dtype='object')"
      ]
     },
     "execution_count": 3,
     "metadata": {},
     "output_type": "execute_result"
    }
   ],
   "source": [
    "#this is to check the titles of the columns so we can select what is relevant to us\n",
    "dframe.columns "
   ]
  },
  {
   "cell_type": "code",
   "execution_count": 4,
   "metadata": {},
   "outputs": [
    {
     "data": {
      "text/html": [
       "<div>\n",
       "<style scoped>\n",
       "    .dataframe tbody tr th:only-of-type {\n",
       "        vertical-align: middle;\n",
       "    }\n",
       "\n",
       "    .dataframe tbody tr th {\n",
       "        vertical-align: top;\n",
       "    }\n",
       "\n",
       "    .dataframe thead th {\n",
       "        text-align: right;\n",
       "    }\n",
       "</style>\n",
       "<table border=\"1\" class=\"dataframe\">\n",
       "  <thead>\n",
       "    <tr style=\"text-align: right;\">\n",
       "      <th></th>\n",
       "      <th>Titre</th>\n",
       "      <th>Catégorie</th>\n",
       "      <th>Date de début</th>\n",
       "      <th>Date de fin</th>\n",
       "      <th>Type de prix</th>\n",
       "      <th>Catégorie</th>\n",
       "    </tr>\n",
       "  </thead>\n",
       "  <tbody>\n",
       "    <tr>\n",
       "      <td>0</td>\n",
       "      <td>Atelier de Paris, centre de danse de la Cartou...</td>\n",
       "      <td>Spectacles -&gt; Danse</td>\n",
       "      <td>2019-11-07T19:00:00+01:00</td>\n",
       "      <td>2019-11-07T20:30:00+01:00</td>\n",
       "      <td>gratuit</td>\n",
       "      <td>Spectacles -&gt; Danse</td>\n",
       "    </tr>\n",
       "    <tr>\n",
       "      <td>1</td>\n",
       "      <td>Bestiaire de bestioles</td>\n",
       "      <td>Animations -&gt; Autre animation</td>\n",
       "      <td>2019-11-06T19:00:00+01:00</td>\n",
       "      <td>2019-11-06T21:00:00+01:00</td>\n",
       "      <td>gratuit</td>\n",
       "      <td>Animations -&gt; Autre animation</td>\n",
       "    </tr>\n",
       "    <tr>\n",
       "      <td>2</td>\n",
       "      <td>A la recherche des écrivains disparus: Proust ...</td>\n",
       "      <td>Animations -&gt; Conférence / Débat</td>\n",
       "      <td>2019-10-22T19:00:00+02:00</td>\n",
       "      <td>2019-10-22T20:30:00+02:00</td>\n",
       "      <td>gratuit</td>\n",
       "      <td>Animations -&gt; Conférence / Débat</td>\n",
       "    </tr>\n",
       "    <tr>\n",
       "      <td>3</td>\n",
       "      <td>Didon et Enée de Purcell par Opéra Côté Choeur</td>\n",
       "      <td>Spectacles -&gt; Opéra / Musical</td>\n",
       "      <td>2020-01-11T20:00:00+01:00</td>\n",
       "      <td>2020-01-12T19:00:00+01:00</td>\n",
       "      <td>payant</td>\n",
       "      <td>Spectacles -&gt; Opéra / Musical</td>\n",
       "    </tr>\n",
       "    <tr>\n",
       "      <td>4</td>\n",
       "      <td>LCDR Party #2</td>\n",
       "      <td>Concerts -&gt; Hip-Hop</td>\n",
       "      <td>2019-11-07T20:00:00+01:00</td>\n",
       "      <td>2019-11-08T02:00:00+01:00</td>\n",
       "      <td>payant</td>\n",
       "      <td>Concerts -&gt; Hip-Hop</td>\n",
       "    </tr>\n",
       "    <tr>\n",
       "      <td>5</td>\n",
       "      <td>La Jam à Tao, tous les jeudis</td>\n",
       "      <td>Concerts -&gt; Jazz</td>\n",
       "      <td>2019-10-24T21:00:00+02:00</td>\n",
       "      <td>2019-11-29T01:00:00+01:00</td>\n",
       "      <td>gratuit</td>\n",
       "      <td>Concerts -&gt; Jazz</td>\n",
       "    </tr>\n",
       "    <tr>\n",
       "      <td>6</td>\n",
       "      <td>FESTIVAL JAZZ'N'KLEZMER w/ PAD BRAPAD + JEWISH...</td>\n",
       "      <td>Concerts -&gt; Musiques du Monde</td>\n",
       "      <td>2019-11-28T19:00:00+01:00</td>\n",
       "      <td>2019-11-28T23:00:00+01:00</td>\n",
       "      <td>payant</td>\n",
       "      <td>Concerts -&gt; Musiques du Monde</td>\n",
       "    </tr>\n",
       "    <tr>\n",
       "      <td>7</td>\n",
       "      <td>Le cercle des dévoreurs</td>\n",
       "      <td>Animations -&gt; Lecture / Rencontre</td>\n",
       "      <td>2019-01-23T17:00:00+01:00</td>\n",
       "      <td>2019-11-27T19:00:00+01:00</td>\n",
       "      <td>gratuit</td>\n",
       "      <td>Animations -&gt; Lecture / Rencontre</td>\n",
       "    </tr>\n",
       "    <tr>\n",
       "      <td>8</td>\n",
       "      <td>Spectacle Jeune public : J'ai le droit !</td>\n",
       "      <td>Spectacles -&gt; Jeune public</td>\n",
       "      <td>2019-10-23T15:00:00+02:00</td>\n",
       "      <td>2019-10-25T15:45:00+02:00</td>\n",
       "      <td>payant</td>\n",
       "      <td>Spectacles -&gt; Jeune public</td>\n",
       "    </tr>\n",
       "    <tr>\n",
       "      <td>9</td>\n",
       "      <td>Stage Hatha Yoga</td>\n",
       "      <td>Animations -&gt; Stage</td>\n",
       "      <td>2019-10-20T16:30:00+02:00</td>\n",
       "      <td>2019-10-20T19:00:00+02:00</td>\n",
       "      <td>payant</td>\n",
       "      <td>Animations -&gt; Stage</td>\n",
       "    </tr>\n",
       "  </tbody>\n",
       "</table>\n",
       "</div>"
      ],
      "text/plain": [
       "                                               Titre  \\\n",
       "0  Atelier de Paris, centre de danse de la Cartou...   \n",
       "1                             Bestiaire de bestioles   \n",
       "2  A la recherche des écrivains disparus: Proust ...   \n",
       "3     Didon et Enée de Purcell par Opéra Côté Choeur   \n",
       "4                                      LCDR Party #2   \n",
       "5                      La Jam à Tao, tous les jeudis   \n",
       "6  FESTIVAL JAZZ'N'KLEZMER w/ PAD BRAPAD + JEWISH...   \n",
       "7                            Le cercle des dévoreurs   \n",
       "8           Spectacle Jeune public : J'ai le droit !   \n",
       "9                                   Stage Hatha Yoga   \n",
       "\n",
       "                           Catégorie              Date de début  \\\n",
       "0                Spectacles -> Danse  2019-11-07T19:00:00+01:00   \n",
       "1      Animations -> Autre animation  2019-11-06T19:00:00+01:00   \n",
       "2   Animations -> Conférence / Débat  2019-10-22T19:00:00+02:00   \n",
       "3      Spectacles -> Opéra / Musical  2020-01-11T20:00:00+01:00   \n",
       "4                Concerts -> Hip-Hop  2019-11-07T20:00:00+01:00   \n",
       "5                   Concerts -> Jazz  2019-10-24T21:00:00+02:00   \n",
       "6      Concerts -> Musiques du Monde  2019-11-28T19:00:00+01:00   \n",
       "7  Animations -> Lecture / Rencontre  2019-01-23T17:00:00+01:00   \n",
       "8         Spectacles -> Jeune public  2019-10-23T15:00:00+02:00   \n",
       "9                Animations -> Stage  2019-10-20T16:30:00+02:00   \n",
       "\n",
       "                 Date de fin Type de prix                          Catégorie  \n",
       "0  2019-11-07T20:30:00+01:00      gratuit                Spectacles -> Danse  \n",
       "1  2019-11-06T21:00:00+01:00      gratuit      Animations -> Autre animation  \n",
       "2  2019-10-22T20:30:00+02:00      gratuit   Animations -> Conférence / Débat  \n",
       "3  2020-01-12T19:00:00+01:00       payant      Spectacles -> Opéra / Musical  \n",
       "4  2019-11-08T02:00:00+01:00       payant                Concerts -> Hip-Hop  \n",
       "5  2019-11-29T01:00:00+01:00      gratuit                   Concerts -> Jazz  \n",
       "6  2019-11-28T23:00:00+01:00       payant      Concerts -> Musiques du Monde  \n",
       "7  2019-11-27T19:00:00+01:00      gratuit  Animations -> Lecture / Rencontre  \n",
       "8  2019-10-25T15:45:00+02:00       payant         Spectacles -> Jeune public  \n",
       "9  2019-10-20T19:00:00+02:00       payant                Animations -> Stage  "
      ]
     },
     "execution_count": 4,
     "metadata": {},
     "output_type": "execute_result"
    }
   ],
   "source": [
    "#we construct a new DataFrame\"Paris_Events\" using  dframe by selecting only certain categories\n",
    "Paris_Events = DataFrame(dframe, columns=['Titre','Catégorie','Date de début','Date de fin','Type de prix','Catégorie'])\n",
    "Paris_Events.head(10)"
   ]
  },
  {
   "cell_type": "code",
   "execution_count": 5,
   "metadata": {},
   "outputs": [
    {
     "data": {
      "text/html": [
       "<div>\n",
       "<style scoped>\n",
       "    .dataframe tbody tr th:only-of-type {\n",
       "        vertical-align: middle;\n",
       "    }\n",
       "\n",
       "    .dataframe tbody tr th {\n",
       "        vertical-align: top;\n",
       "    }\n",
       "\n",
       "    .dataframe thead th {\n",
       "        text-align: right;\n",
       "    }\n",
       "</style>\n",
       "<table border=\"1\" class=\"dataframe\">\n",
       "  <thead>\n",
       "    <tr style=\"text-align: right;\">\n",
       "      <th></th>\n",
       "      <th>ID</th>\n",
       "      <th>Titre</th>\n",
       "      <th>Description</th>\n",
       "      <th>Catégorie</th>\n",
       "      <th>Occurrences</th>\n",
       "    </tr>\n",
       "  </thead>\n",
       "  <tbody>\n",
       "    <tr>\n",
       "      <td>0</td>\n",
       "      <td>92223</td>\n",
       "      <td>Atelier de Paris, centre de danse de la Cartou...</td>\n",
       "      <td>&lt;p&gt;Sera présenté notamment leur prochain spect...</td>\n",
       "      <td>Spectacles -&gt; Danse</td>\n",
       "      <td>2019-11-07T19:00:00+01:00_2019-11-07T20:30:00+...</td>\n",
       "    </tr>\n",
       "    <tr>\n",
       "      <td>1</td>\n",
       "      <td>92219</td>\n",
       "      <td>Bestiaire de bestioles</td>\n",
       "      <td>&lt;p&gt;&lt;b&gt;Aude Villerouge&lt;/b&gt; puise son inspiratio...</td>\n",
       "      <td>Animations -&gt; Autre animation</td>\n",
       "      <td>2019-11-06T19:00:00+01:00_2019-11-06T21:00:00+...</td>\n",
       "    </tr>\n",
       "    <tr>\n",
       "      <td>2</td>\n",
       "      <td>83030</td>\n",
       "      <td>A la recherche des écrivains disparus: Proust ...</td>\n",
       "      <td>&lt;p style=\"\" class=\"\"&gt;Partez sur les traces de ...</td>\n",
       "      <td>Animations -&gt; Conférence / Débat</td>\n",
       "      <td>2019-10-22T19:00:00+02:00_2019-10-22T20:30:00+...</td>\n",
       "    </tr>\n",
       "    <tr>\n",
       "      <td>3</td>\n",
       "      <td>92134</td>\n",
       "      <td>Didon et Enée de Purcell par Opéra Côté Choeur</td>\n",
       "      <td>&lt;p&gt;Quelques chaises et autant de voiles suffir...</td>\n",
       "      <td>Spectacles -&gt; Opéra / Musical</td>\n",
       "      <td>2020-01-11T20:00:00+01:00_2020-01-11T22:00:00+...</td>\n",
       "    </tr>\n",
       "    <tr>\n",
       "      <td>4</td>\n",
       "      <td>92159</td>\n",
       "      <td>LCDR Party #2</td>\n",
       "      <td>&lt;p&gt;La Cour de Récré, Artichaut Records et Loom...</td>\n",
       "      <td>Concerts -&gt; Hip-Hop</td>\n",
       "      <td>2019-11-07T20:00:00+01:00_2019-11-08T02:00:00+...</td>\n",
       "    </tr>\n",
       "    <tr>\n",
       "      <td>5</td>\n",
       "      <td>86593</td>\n",
       "      <td>La Jam à Tao, tous les jeudis</td>\n",
       "      <td>&lt;p&gt;Tous les soirs des concerts à participation...</td>\n",
       "      <td>Concerts -&gt; Jazz</td>\n",
       "      <td>2019-10-24T21:00:00+02:00_2019-10-25T01:00:00+...</td>\n",
       "    </tr>\n",
       "    <tr>\n",
       "      <td>6</td>\n",
       "      <td>92068</td>\n",
       "      <td>FESTIVAL JAZZ'N'KLEZMER w/ PAD BRAPAD + JEWISH...</td>\n",
       "      <td>&lt;h4&gt;Pad Brapad (France)&lt;/h4&gt;&lt;p&gt;&lt;/p&gt;&lt;p&gt;Des cent...</td>\n",
       "      <td>Concerts -&gt; Musiques du Monde</td>\n",
       "      <td>2019-11-28T19:00:00+01:00_2019-11-28T23:00:00+...</td>\n",
       "    </tr>\n",
       "    <tr>\n",
       "      <td>7</td>\n",
       "      <td>68723</td>\n",
       "      <td>Le cercle des dévoreurs</td>\n",
       "      <td>&lt;p&gt;Venez discuter, échanger et partager vos ap...</td>\n",
       "      <td>Animations -&gt; Lecture / Rencontre</td>\n",
       "      <td>2019-01-23T17:00:00+01:00_2019-01-23T19:00:00+...</td>\n",
       "    </tr>\n",
       "    <tr>\n",
       "      <td>8</td>\n",
       "      <td>92053</td>\n",
       "      <td>Spectacle Jeune public : J'ai le droit !</td>\n",
       "      <td>&lt;p&gt;Deux journalistes font des recherches sur l...</td>\n",
       "      <td>Spectacles -&gt; Jeune public</td>\n",
       "      <td>2019-10-23T15:00:00+02:00_2019-10-23T15:45:00+...</td>\n",
       "    </tr>\n",
       "    <tr>\n",
       "      <td>9</td>\n",
       "      <td>92048</td>\n",
       "      <td>Stage Hatha Yoga</td>\n",
       "      <td>&lt;p&gt;&lt;br&gt;&lt;/p&gt;&lt;p&gt;                      -  1h15 de...</td>\n",
       "      <td>Animations -&gt; Stage</td>\n",
       "      <td>2019-10-20T16:30:00+02:00_2019-10-20T19:00:00+...</td>\n",
       "    </tr>\n",
       "  </tbody>\n",
       "</table>\n",
       "</div>"
      ],
      "text/plain": [
       "      ID                                              Titre  \\\n",
       "0  92223  Atelier de Paris, centre de danse de la Cartou...   \n",
       "1  92219                             Bestiaire de bestioles   \n",
       "2  83030  A la recherche des écrivains disparus: Proust ...   \n",
       "3  92134     Didon et Enée de Purcell par Opéra Côté Choeur   \n",
       "4  92159                                      LCDR Party #2   \n",
       "5  86593                      La Jam à Tao, tous les jeudis   \n",
       "6  92068  FESTIVAL JAZZ'N'KLEZMER w/ PAD BRAPAD + JEWISH...   \n",
       "7  68723                            Le cercle des dévoreurs   \n",
       "8  92053           Spectacle Jeune public : J'ai le droit !   \n",
       "9  92048                                   Stage Hatha Yoga   \n",
       "\n",
       "                                         Description  \\\n",
       "0  <p>Sera présenté notamment leur prochain spect...   \n",
       "1  <p><b>Aude Villerouge</b> puise son inspiratio...   \n",
       "2  <p style=\"\" class=\"\">Partez sur les traces de ...   \n",
       "3  <p>Quelques chaises et autant de voiles suffir...   \n",
       "4  <p>La Cour de Récré, Artichaut Records et Loom...   \n",
       "5  <p>Tous les soirs des concerts à participation...   \n",
       "6  <h4>Pad Brapad (France)</h4><p></p><p>Des cent...   \n",
       "7  <p>Venez discuter, échanger et partager vos ap...   \n",
       "8  <p>Deux journalistes font des recherches sur l...   \n",
       "9  <p><br></p><p>                      -  1h15 de...   \n",
       "\n",
       "                           Catégorie  \\\n",
       "0                Spectacles -> Danse   \n",
       "1      Animations -> Autre animation   \n",
       "2   Animations -> Conférence / Débat   \n",
       "3      Spectacles -> Opéra / Musical   \n",
       "4                Concerts -> Hip-Hop   \n",
       "5                   Concerts -> Jazz   \n",
       "6      Concerts -> Musiques du Monde   \n",
       "7  Animations -> Lecture / Rencontre   \n",
       "8         Spectacles -> Jeune public   \n",
       "9                Animations -> Stage   \n",
       "\n",
       "                                         Occurrences  \n",
       "0  2019-11-07T19:00:00+01:00_2019-11-07T20:30:00+...  \n",
       "1  2019-11-06T19:00:00+01:00_2019-11-06T21:00:00+...  \n",
       "2  2019-10-22T19:00:00+02:00_2019-10-22T20:30:00+...  \n",
       "3  2020-01-11T20:00:00+01:00_2020-01-11T22:00:00+...  \n",
       "4  2019-11-07T20:00:00+01:00_2019-11-08T02:00:00+...  \n",
       "5  2019-10-24T21:00:00+02:00_2019-10-25T01:00:00+...  \n",
       "6  2019-11-28T19:00:00+01:00_2019-11-28T23:00:00+...  \n",
       "7  2019-01-23T17:00:00+01:00_2019-01-23T19:00:00+...  \n",
       "8  2019-10-23T15:00:00+02:00_2019-10-23T15:45:00+...  \n",
       "9  2019-10-20T16:30:00+02:00_2019-10-20T19:00:00+...  "
      ]
     },
     "execution_count": 5,
     "metadata": {},
     "output_type": "execute_result"
    }
   ],
   "source": [
    "#we create a DataFrame to display the most popular events(considering how many times it occured per year)\n",
    "#We pick the data we want to map and organize it\n",
    "popular_events = DataFrame(dframe, columns=['ID','Titre','Description','Catégorie','Occurrences'])\n",
    "popular_events.head(10)"
   ]
  },
  {
   "cell_type": "code",
   "execution_count": 6,
   "metadata": {},
   "outputs": [],
   "source": [
    "# To display how many times the events hapened per year, the times of the events are separated by \";\" \n",
    "# we count the numbers of   \";\"  then add + 1 to include the first date.\n",
    "# we create two new lists to display the events names and the events occurance.\n",
    "eventsName=[]\n",
    "eventsOcc=[]\n",
    "for ligne in popular_events.itertuples():\n",
    "    occ=ligne[5].find(';')\n",
    "    if(occ== -1):\n",
    "        occ=0\n",
    "    occ+=1\n",
    "    eventsName.append(ligne[2])\n",
    "    eventsOcc.append(occ)"
   ]
  },
  {
   "cell_type": "code",
   "execution_count": 7,
   "metadata": {},
   "outputs": [],
   "source": [
    "# we add two new lists\n",
    "popular_events['event name']=eventsName\n",
    "popular_events['occurrence per year']=eventsOcc"
   ]
  },
  {
   "cell_type": "code",
   "execution_count": 8,
   "metadata": {},
   "outputs": [
    {
     "data": {
      "text/plain": [
       "Index(['ID', 'Titre', 'Description', 'Catégorie', 'Occurrences', 'event name',\n",
       "       'occurrence per year'],\n",
       "      dtype='object')"
      ]
     },
     "execution_count": 8,
     "metadata": {},
     "output_type": "execute_result"
    }
   ],
   "source": [
    "#let's check our new columns\n",
    "popular_events.columns"
   ]
  },
  {
   "cell_type": "code",
   "execution_count": 9,
   "metadata": {},
   "outputs": [
    {
     "data": {
      "text/html": [
       "<div>\n",
       "<style scoped>\n",
       "    .dataframe tbody tr th:only-of-type {\n",
       "        vertical-align: middle;\n",
       "    }\n",
       "\n",
       "    .dataframe tbody tr th {\n",
       "        vertical-align: top;\n",
       "    }\n",
       "\n",
       "    .dataframe thead th {\n",
       "        text-align: right;\n",
       "    }\n",
       "</style>\n",
       "<table border=\"1\" class=\"dataframe\">\n",
       "  <thead>\n",
       "    <tr style=\"text-align: right;\">\n",
       "      <th></th>\n",
       "      <th>ID</th>\n",
       "      <th>Titre</th>\n",
       "      <th>Description</th>\n",
       "      <th>Catégorie</th>\n",
       "      <th>Occurrences</th>\n",
       "      <th>event name</th>\n",
       "      <th>occurrence per year</th>\n",
       "    </tr>\n",
       "  </thead>\n",
       "  <tbody>\n",
       "    <tr>\n",
       "      <td>0</td>\n",
       "      <td>92223</td>\n",
       "      <td>Atelier de Paris, centre de danse de la Cartou...</td>\n",
       "      <td>&lt;p&gt;Sera présenté notamment leur prochain spect...</td>\n",
       "      <td>Spectacles -&gt; Danse</td>\n",
       "      <td>2019-11-07T19:00:00+01:00_2019-11-07T20:30:00+...</td>\n",
       "      <td>Atelier de Paris, centre de danse de la Cartou...</td>\n",
       "      <td>1</td>\n",
       "    </tr>\n",
       "    <tr>\n",
       "      <td>1</td>\n",
       "      <td>92219</td>\n",
       "      <td>Bestiaire de bestioles</td>\n",
       "      <td>&lt;p&gt;&lt;b&gt;Aude Villerouge&lt;/b&gt; puise son inspiratio...</td>\n",
       "      <td>Animations -&gt; Autre animation</td>\n",
       "      <td>2019-11-06T19:00:00+01:00_2019-11-06T21:00:00+...</td>\n",
       "      <td>Bestiaire de bestioles</td>\n",
       "      <td>1</td>\n",
       "    </tr>\n",
       "    <tr>\n",
       "      <td>2</td>\n",
       "      <td>83030</td>\n",
       "      <td>A la recherche des écrivains disparus: Proust ...</td>\n",
       "      <td>&lt;p style=\"\" class=\"\"&gt;Partez sur les traces de ...</td>\n",
       "      <td>Animations -&gt; Conférence / Débat</td>\n",
       "      <td>2019-10-22T19:00:00+02:00_2019-10-22T20:30:00+...</td>\n",
       "      <td>A la recherche des écrivains disparus: Proust ...</td>\n",
       "      <td>1</td>\n",
       "    </tr>\n",
       "    <tr>\n",
       "      <td>3</td>\n",
       "      <td>92134</td>\n",
       "      <td>Didon et Enée de Purcell par Opéra Côté Choeur</td>\n",
       "      <td>&lt;p&gt;Quelques chaises et autant de voiles suffir...</td>\n",
       "      <td>Spectacles -&gt; Opéra / Musical</td>\n",
       "      <td>2020-01-11T20:00:00+01:00_2020-01-11T22:00:00+...</td>\n",
       "      <td>Didon et Enée de Purcell par Opéra Côté Choeur</td>\n",
       "      <td>52</td>\n",
       "    </tr>\n",
       "  </tbody>\n",
       "</table>\n",
       "</div>"
      ],
      "text/plain": [
       "      ID                                              Titre  \\\n",
       "0  92223  Atelier de Paris, centre de danse de la Cartou...   \n",
       "1  92219                             Bestiaire de bestioles   \n",
       "2  83030  A la recherche des écrivains disparus: Proust ...   \n",
       "3  92134     Didon et Enée de Purcell par Opéra Côté Choeur   \n",
       "\n",
       "                                         Description  \\\n",
       "0  <p>Sera présenté notamment leur prochain spect...   \n",
       "1  <p><b>Aude Villerouge</b> puise son inspiratio...   \n",
       "2  <p style=\"\" class=\"\">Partez sur les traces de ...   \n",
       "3  <p>Quelques chaises et autant de voiles suffir...   \n",
       "\n",
       "                          Catégorie  \\\n",
       "0               Spectacles -> Danse   \n",
       "1     Animations -> Autre animation   \n",
       "2  Animations -> Conférence / Débat   \n",
       "3     Spectacles -> Opéra / Musical   \n",
       "\n",
       "                                         Occurrences  \\\n",
       "0  2019-11-07T19:00:00+01:00_2019-11-07T20:30:00+...   \n",
       "1  2019-11-06T19:00:00+01:00_2019-11-06T21:00:00+...   \n",
       "2  2019-10-22T19:00:00+02:00_2019-10-22T20:30:00+...   \n",
       "3  2020-01-11T20:00:00+01:00_2020-01-11T22:00:00+...   \n",
       "\n",
       "                                          event name  occurrence per year  \n",
       "0  Atelier de Paris, centre de danse de la Cartou...                    1  \n",
       "1                             Bestiaire de bestioles                    1  \n",
       "2  A la recherche des écrivains disparus: Proust ...                    1  \n",
       "3     Didon et Enée de Purcell par Opéra Côté Choeur                   52  "
      ]
     },
     "execution_count": 9,
     "metadata": {},
     "output_type": "execute_result"
    }
   ],
   "source": [
    "popular_events.head(4)"
   ]
  },
  {
   "cell_type": "code",
   "execution_count": 10,
   "metadata": {},
   "outputs": [
    {
     "data": {
      "text/html": [
       "<div>\n",
       "<style scoped>\n",
       "    .dataframe tbody tr th:only-of-type {\n",
       "        vertical-align: middle;\n",
       "    }\n",
       "\n",
       "    .dataframe tbody tr th {\n",
       "        vertical-align: top;\n",
       "    }\n",
       "\n",
       "    .dataframe thead th {\n",
       "        text-align: right;\n",
       "    }\n",
       "</style>\n",
       "<table border=\"1\" class=\"dataframe\">\n",
       "  <thead>\n",
       "    <tr style=\"text-align: right;\">\n",
       "      <th></th>\n",
       "      <th>Catégorie</th>\n",
       "      <th>Type de prix</th>\n",
       "      <th>Count</th>\n",
       "    </tr>\n",
       "  </thead>\n",
       "  <tbody>\n",
       "    <tr>\n",
       "      <td>0</td>\n",
       "      <td>Animations -&gt; Atelier / Cours</td>\n",
       "      <td>conso</td>\n",
       "      <td>1</td>\n",
       "    </tr>\n",
       "    <tr>\n",
       "      <td>1</td>\n",
       "      <td>Animations -&gt; Atelier / Cours</td>\n",
       "      <td>gratuit</td>\n",
       "      <td>216</td>\n",
       "    </tr>\n",
       "    <tr>\n",
       "      <td>2</td>\n",
       "      <td>Animations -&gt; Atelier / Cours</td>\n",
       "      <td>payant</td>\n",
       "      <td>124</td>\n",
       "    </tr>\n",
       "    <tr>\n",
       "      <td>3</td>\n",
       "      <td>Animations -&gt; Autre animation</td>\n",
       "      <td>gratuit</td>\n",
       "      <td>32</td>\n",
       "    </tr>\n",
       "    <tr>\n",
       "      <td>4</td>\n",
       "      <td>Animations -&gt; Autre animation</td>\n",
       "      <td>payant</td>\n",
       "      <td>4</td>\n",
       "    </tr>\n",
       "    <tr>\n",
       "      <td>5</td>\n",
       "      <td>Animations -&gt; Balade</td>\n",
       "      <td>gratuit</td>\n",
       "      <td>9</td>\n",
       "    </tr>\n",
       "    <tr>\n",
       "      <td>6</td>\n",
       "      <td>Animations -&gt; Balade</td>\n",
       "      <td>payant</td>\n",
       "      <td>7</td>\n",
       "    </tr>\n",
       "    <tr>\n",
       "      <td>7</td>\n",
       "      <td>Animations -&gt; Conférence / Débat</td>\n",
       "      <td>gratuit</td>\n",
       "      <td>160</td>\n",
       "    </tr>\n",
       "  </tbody>\n",
       "</table>\n",
       "</div>"
      ],
      "text/plain": [
       "                          Catégorie Type de prix  Count\n",
       "0     Animations -> Atelier / Cours        conso      1\n",
       "1     Animations -> Atelier / Cours      gratuit    216\n",
       "2     Animations -> Atelier / Cours       payant    124\n",
       "3     Animations -> Autre animation      gratuit     32\n",
       "4     Animations -> Autre animation       payant      4\n",
       "5              Animations -> Balade      gratuit      9\n",
       "6              Animations -> Balade       payant      7\n",
       "7  Animations -> Conférence / Débat      gratuit    160"
      ]
     },
     "execution_count": 10,
     "metadata": {},
     "output_type": "execute_result"
    }
   ],
   "source": [
    "# we will count the number of events by each category\n",
    "DataFrame(dframe,columns=['Catégorie','Type de prix','count'])\n",
    "dframe['Count']=1 #we are creating a new column named count with numeric value of 1\n",
    "dframe_count = dframe[['Catégorie','Type de prix','Count']]\n",
    "dframe_count = dframe.groupby(['Catégorie','Type de prix'])['Count'].count().reset_index()\n",
    "dframe_count.head(8)\n",
    "# we group these two columns to have a clearer information"
   ]
  },
  {
   "cell_type": "code",
   "execution_count": 11,
   "metadata": {},
   "outputs": [],
   "source": [
    "#we will split the [Catégorie] into two lists to make visualisation more clear,so we split by \"->\"\n",
    "dframe_count[['category','subcategory']] = dframe_count[\"Catégorie\"].str.split(\"->\", n = 1, expand = True)\n",
    "del dframe_count['Catégorie']"
   ]
  },
  {
   "cell_type": "code",
   "execution_count": 12,
   "metadata": {},
   "outputs": [
    {
     "data": {
      "text/html": [
       "<div>\n",
       "<style scoped>\n",
       "    .dataframe tbody tr th:only-of-type {\n",
       "        vertical-align: middle;\n",
       "    }\n",
       "\n",
       "    .dataframe tbody tr th {\n",
       "        vertical-align: top;\n",
       "    }\n",
       "\n",
       "    .dataframe thead th {\n",
       "        text-align: right;\n",
       "    }\n",
       "</style>\n",
       "<table border=\"1\" class=\"dataframe\">\n",
       "  <thead>\n",
       "    <tr style=\"text-align: right;\">\n",
       "      <th></th>\n",
       "      <th>Type de prix</th>\n",
       "      <th>Count</th>\n",
       "      <th>category</th>\n",
       "      <th>subcategory</th>\n",
       "    </tr>\n",
       "  </thead>\n",
       "  <tbody>\n",
       "    <tr>\n",
       "      <td>0</td>\n",
       "      <td>conso</td>\n",
       "      <td>1</td>\n",
       "      <td>Animations</td>\n",
       "      <td>Atelier / Cours</td>\n",
       "    </tr>\n",
       "    <tr>\n",
       "      <td>1</td>\n",
       "      <td>gratuit</td>\n",
       "      <td>216</td>\n",
       "      <td>Animations</td>\n",
       "      <td>Atelier / Cours</td>\n",
       "    </tr>\n",
       "    <tr>\n",
       "      <td>2</td>\n",
       "      <td>payant</td>\n",
       "      <td>124</td>\n",
       "      <td>Animations</td>\n",
       "      <td>Atelier / Cours</td>\n",
       "    </tr>\n",
       "    <tr>\n",
       "      <td>3</td>\n",
       "      <td>gratuit</td>\n",
       "      <td>32</td>\n",
       "      <td>Animations</td>\n",
       "      <td>Autre animation</td>\n",
       "    </tr>\n",
       "    <tr>\n",
       "      <td>4</td>\n",
       "      <td>payant</td>\n",
       "      <td>4</td>\n",
       "      <td>Animations</td>\n",
       "      <td>Autre animation</td>\n",
       "    </tr>\n",
       "    <tr>\n",
       "      <td>5</td>\n",
       "      <td>gratuit</td>\n",
       "      <td>9</td>\n",
       "      <td>Animations</td>\n",
       "      <td>Balade</td>\n",
       "    </tr>\n",
       "    <tr>\n",
       "      <td>6</td>\n",
       "      <td>payant</td>\n",
       "      <td>7</td>\n",
       "      <td>Animations</td>\n",
       "      <td>Balade</td>\n",
       "    </tr>\n",
       "    <tr>\n",
       "      <td>7</td>\n",
       "      <td>gratuit</td>\n",
       "      <td>160</td>\n",
       "      <td>Animations</td>\n",
       "      <td>Conférence / Débat</td>\n",
       "    </tr>\n",
       "    <tr>\n",
       "      <td>8</td>\n",
       "      <td>payant</td>\n",
       "      <td>224</td>\n",
       "      <td>Animations</td>\n",
       "      <td>Conférence / Débat</td>\n",
       "    </tr>\n",
       "    <tr>\n",
       "      <td>9</td>\n",
       "      <td>gratuit</td>\n",
       "      <td>134</td>\n",
       "      <td>Animations</td>\n",
       "      <td>Lecture / Rencontre</td>\n",
       "    </tr>\n",
       "  </tbody>\n",
       "</table>\n",
       "</div>"
      ],
      "text/plain": [
       "  Type de prix  Count     category           subcategory\n",
       "0        conso      1  Animations        Atelier / Cours\n",
       "1      gratuit    216  Animations        Atelier / Cours\n",
       "2       payant    124  Animations        Atelier / Cours\n",
       "3      gratuit     32  Animations        Autre animation\n",
       "4       payant      4  Animations        Autre animation\n",
       "5      gratuit      9  Animations                 Balade\n",
       "6       payant      7  Animations                 Balade\n",
       "7      gratuit    160  Animations     Conférence / Débat\n",
       "8       payant    224  Animations     Conférence / Débat\n",
       "9      gratuit    134  Animations    Lecture / Rencontre"
      ]
     },
     "execution_count": 12,
     "metadata": {},
     "output_type": "execute_result"
    }
   ],
   "source": [
    "# display our dataframe\n",
    "dframe_count.head(10)"
   ]
  },
  {
   "cell_type": "code",
   "execution_count": 13,
   "metadata": {},
   "outputs": [
    {
     "data": {
      "text/plain": [
       "Index(['Type de prix', 'Count', 'category', 'subcategory'], dtype='object')"
      ]
     },
     "execution_count": 13,
     "metadata": {},
     "output_type": "execute_result"
    }
   ],
   "source": [
    "dframe_count.columns"
   ]
  },
  {
   "cell_type": "code",
   "execution_count": 14,
   "metadata": {},
   "outputs": [
    {
     "data": {
      "text/html": [
       "<div>\n",
       "<style scoped>\n",
       "    .dataframe tbody tr th:only-of-type {\n",
       "        vertical-align: middle;\n",
       "    }\n",
       "\n",
       "    .dataframe tbody tr th {\n",
       "        vertical-align: top;\n",
       "    }\n",
       "\n",
       "    .dataframe thead th {\n",
       "        text-align: right;\n",
       "    }\n",
       "</style>\n",
       "<table border=\"1\" class=\"dataframe\">\n",
       "  <thead>\n",
       "    <tr style=\"text-align: right;\">\n",
       "      <th></th>\n",
       "      <th>ID</th>\n",
       "      <th>Titre</th>\n",
       "      <th>Description</th>\n",
       "      <th>Catégorie</th>\n",
       "      <th>Occurrences</th>\n",
       "      <th>event name</th>\n",
       "      <th>occurrence per year</th>\n",
       "      <th>entry</th>\n",
       "    </tr>\n",
       "  </thead>\n",
       "  <tbody>\n",
       "    <tr>\n",
       "      <td>0</td>\n",
       "      <td>92223</td>\n",
       "      <td>Atelier de Paris, centre de danse de la Cartou...</td>\n",
       "      <td>&lt;p&gt;Sera présenté notamment leur prochain spect...</td>\n",
       "      <td>Spectacles -&gt; Danse</td>\n",
       "      <td>2019-11-07T19:00:00+01:00_2019-11-07T20:30:00+...</td>\n",
       "      <td>Atelier de Paris, centre de danse de la Cartou...</td>\n",
       "      <td>1</td>\n",
       "      <td>libre</td>\n",
       "    </tr>\n",
       "    <tr>\n",
       "      <td>1</td>\n",
       "      <td>92219</td>\n",
       "      <td>Bestiaire de bestioles</td>\n",
       "      <td>&lt;p&gt;&lt;b&gt;Aude Villerouge&lt;/b&gt; puise son inspiratio...</td>\n",
       "      <td>Animations -&gt; Autre animation</td>\n",
       "      <td>2019-11-06T19:00:00+01:00_2019-11-06T21:00:00+...</td>\n",
       "      <td>Bestiaire de bestioles</td>\n",
       "      <td>1</td>\n",
       "      <td>libre</td>\n",
       "    </tr>\n",
       "    <tr>\n",
       "      <td>2</td>\n",
       "      <td>83030</td>\n",
       "      <td>A la recherche des écrivains disparus: Proust ...</td>\n",
       "      <td>&lt;p style=\"\" class=\"\"&gt;Partez sur les traces de ...</td>\n",
       "      <td>Animations -&gt; Conférence / Débat</td>\n",
       "      <td>2019-10-22T19:00:00+02:00_2019-10-22T20:30:00+...</td>\n",
       "      <td>A la recherche des écrivains disparus: Proust ...</td>\n",
       "      <td>1</td>\n",
       "      <td>libre</td>\n",
       "    </tr>\n",
       "    <tr>\n",
       "      <td>3</td>\n",
       "      <td>92134</td>\n",
       "      <td>Didon et Enée de Purcell par Opéra Côté Choeur</td>\n",
       "      <td>&lt;p&gt;Quelques chaises et autant de voiles suffir...</td>\n",
       "      <td>Spectacles -&gt; Opéra / Musical</td>\n",
       "      <td>2020-01-11T20:00:00+01:00_2020-01-11T22:00:00+...</td>\n",
       "      <td>Didon et Enée de Purcell par Opéra Côté Choeur</td>\n",
       "      <td>52</td>\n",
       "      <td>conseillee</td>\n",
       "    </tr>\n",
       "    <tr>\n",
       "      <td>4</td>\n",
       "      <td>92159</td>\n",
       "      <td>LCDR Party #2</td>\n",
       "      <td>&lt;p&gt;La Cour de Récré, Artichaut Records et Loom...</td>\n",
       "      <td>Concerts -&gt; Hip-Hop</td>\n",
       "      <td>2019-11-07T20:00:00+01:00_2019-11-08T02:00:00+...</td>\n",
       "      <td>LCDR Party #2</td>\n",
       "      <td>1</td>\n",
       "      <td>conseillee</td>\n",
       "    </tr>\n",
       "  </tbody>\n",
       "</table>\n",
       "</div>"
      ],
      "text/plain": [
       "      ID                                              Titre  \\\n",
       "0  92223  Atelier de Paris, centre de danse de la Cartou...   \n",
       "1  92219                             Bestiaire de bestioles   \n",
       "2  83030  A la recherche des écrivains disparus: Proust ...   \n",
       "3  92134     Didon et Enée de Purcell par Opéra Côté Choeur   \n",
       "4  92159                                      LCDR Party #2   \n",
       "\n",
       "                                         Description  \\\n",
       "0  <p>Sera présenté notamment leur prochain spect...   \n",
       "1  <p><b>Aude Villerouge</b> puise son inspiratio...   \n",
       "2  <p style=\"\" class=\"\">Partez sur les traces de ...   \n",
       "3  <p>Quelques chaises et autant de voiles suffir...   \n",
       "4  <p>La Cour de Récré, Artichaut Records et Loom...   \n",
       "\n",
       "                          Catégorie  \\\n",
       "0               Spectacles -> Danse   \n",
       "1     Animations -> Autre animation   \n",
       "2  Animations -> Conférence / Débat   \n",
       "3     Spectacles -> Opéra / Musical   \n",
       "4               Concerts -> Hip-Hop   \n",
       "\n",
       "                                         Occurrences  \\\n",
       "0  2019-11-07T19:00:00+01:00_2019-11-07T20:30:00+...   \n",
       "1  2019-11-06T19:00:00+01:00_2019-11-06T21:00:00+...   \n",
       "2  2019-10-22T19:00:00+02:00_2019-10-22T20:30:00+...   \n",
       "3  2020-01-11T20:00:00+01:00_2020-01-11T22:00:00+...   \n",
       "4  2019-11-07T20:00:00+01:00_2019-11-08T02:00:00+...   \n",
       "\n",
       "                                          event name  occurrence per year  \\\n",
       "0  Atelier de Paris, centre de danse de la Cartou...                    1   \n",
       "1                             Bestiaire de bestioles                    1   \n",
       "2  A la recherche des écrivains disparus: Proust ...                    1   \n",
       "3     Didon et Enée de Purcell par Opéra Côté Choeur                   52   \n",
       "4                                      LCDR Party #2                    1   \n",
       "\n",
       "        entry  \n",
       "0       libre  \n",
       "1       libre  \n",
       "2       libre  \n",
       "3  conseillee  \n",
       "4  conseillee  "
      ]
     },
     "execution_count": 14,
     "metadata": {},
     "output_type": "execute_result"
    }
   ],
   "source": [
    "#lets do a table where we highlight the entry type for the events\n",
    "'''entry=[dframe[\"Type d'accès\"]]\n",
    "df = df.append({'foo':1, 'bar':2}, ignore_index=True)'''\n",
    "\n",
    "entry = dframe[\"Type d'accès\"].tolist()\n",
    "popular_events['entry']=entry\n",
    "popular_events.head(5)"
   ]
  },
  {
   "cell_type": "markdown",
   "metadata": {},
   "source": [
    "DATA VISUALISATION"
   ]
  },
  {
   "cell_type": "code",
   "execution_count": 15,
   "metadata": {
    "scrolled": true
   },
   "outputs": [
    {
     "data": {
      "text/plain": [
       "<seaborn.axisgrid.FacetGrid at 0x18a297f0>"
      ]
     },
     "execution_count": 15,
     "metadata": {},
     "output_type": "execute_result"
    },
    {
     "data": {
      "image/png": "[encoded data removed]",
      "text/plain": [
       "<Figure size 360x360 with 1 Axes>"
      ]
     },
     "metadata": {
      "needs_background": "light"
     },
     "output_type": "display_data"
    }
   ],
   "source": [
    "#here we are comparing the events between free and paid events\n",
    "Paris_Events = dframe.replace(to_replace='conso',value='payant')\n",
    "sns.catplot('Type de prix',data=Paris_Events,kind=\"count\")\n",
    "#note that we replaced the conso string by payant to have only two variables of comparison"
   ]
  },
  {
   "cell_type": "code",
   "execution_count": 16,
   "metadata": {
    "scrolled": true
   },
   "outputs": [
    {
     "data": {
      "text/plain": [
       "(array([ 0,  1,  2,  3,  4,  5,  6,  7,  8,  9, 10, 11, 12, 13, 14, 15, 16,\n",
       "        17, 18, 19, 20, 21, 22, 23, 24, 25, 26, 27, 28, 29, 30, 31, 32, 33,\n",
       "        34, 35, 36, 37, 38, 39, 40, 41, 42, 43]),\n",
       " <a list of 44 Text xticklabel objects>)"
      ]
     },
     "execution_count": 16,
     "metadata": {},
     "output_type": "execute_result"
    },
    {
     "data": {
      "image/png": "[encoded data removed]",
      "text/plain": [
       "<Figure size 972.75x216 with 1 Axes>"
      ]
     },
     "metadata": {
      "needs_background": "light"
     },
     "output_type": "display_data"
    }
   ],
   "source": [
    "# lets check which categorie has the most events\n",
    "sns.catplot(x='Catégorie', hue=\"occurrence per year\", data=popular_events, kind=\"count\",aspect=4,height=3)\n",
    "plt.xticks(rotation=90,size=8)"
   ]
  },
  {
   "cell_type": "code",
   "execution_count": 17,
   "metadata": {
    "scrolled": true
   },
   "outputs": [
    {
     "data": {
      "text/plain": [
       "(array([0, 1, 2, 3, 4]), <a list of 5 Text xticklabel objects>)"
      ]
     },
     "execution_count": 17,
     "metadata": {},
     "output_type": "execute_result"
    },
    {
     "data": {
      "image/png": "[encoded data removed]",
      "text/plain": [
       "<Figure size 934.625x216 with 1 Axes>"
      ]
     },
     "metadata": {
      "needs_background": "light"
     },
     "output_type": "display_data"
    }
   ],
   "source": [
    "#let us check the events per types of prices for each category\n",
    "sns.catplot(x='category', hue=\"Type de prix\", data=dframe_count, kind=\"count\",aspect=4,height=3)\n",
    "plt.xticks(rotation=90,size=10)"
   ]
  },
  {
   "cell_type": "markdown",
   "metadata": {},
   "source": [
    "cool! almost half of the concerts happening in Paris are free of charge!"
   ]
  },
  {
   "cell_type": "code",
   "execution_count": 18,
   "metadata": {},
   "outputs": [],
   "source": [
    "#lets calculate the events duration by substracting the end date from the start date, then add it as new column\n",
    "for ligne in Paris_Events.itertuples():\n",
    "    Paris_Events['duration']=parser.parse(ligne[9]) - parser.parse(ligne[8])"
   ]
  },
  {
   "cell_type": "code",
   "execution_count": 19,
   "metadata": {
    "scrolled": true
   },
   "outputs": [
    {
     "data": {
      "text/plain": [
       "<Figure size 1152x576 with 0 Axes>"
      ]
     },
     "execution_count": 19,
     "metadata": {},
     "output_type": "execute_result"
    },
    {
     "data": {
      "image/png": "[encoded data removed]",
      "text/plain": [
       "<Figure size 1050.25x216 with 1 Axes>"
      ]
     },
     "metadata": {
      "needs_background": "light"
     },
     "output_type": "display_data"
    },
    {
     "data": {
      "text/plain": [
       "<Figure size 1152x576 with 0 Axes>"
      ]
     },
     "metadata": {},
     "output_type": "display_data"
    }
   ],
   "source": [
    "#here we check the duration of each categorie to analyse what events people spent the most time at.\n",
    "'''sns.countplot(x=\"Catégorie\", hue=\"duration\", data=Paris_Events)'''\n",
    "sns.catplot(x=\"Catégorie\", hue=\"duration\", data=Paris_Events,kind=\"count\",aspect=4,height=3)\n",
    "plt.xticks(rotation=90,size=9)\n",
    "plt.figure(figsize=(16,8))\n",
    "#sorry for the legend in nanoseconds! could not figure out how to change it to hours."
   ]
  },
  {
   "cell_type": "markdown",
   "metadata": {},
   "source": [
    "Its interesting to see that jazz,classic music, and debates takes the biggest time portion in Paris!"
   ]
  },
  {
   "cell_type": "code",
   "execution_count": 20,
   "metadata": {},
   "outputs": [
    {
     "data": {
      "text/plain": [
       "<matplotlib.axes._subplots.AxesSubplot at 0x1a3d8b30>"
      ]
     },
     "execution_count": 20,
     "metadata": {},
     "output_type": "execute_result"
    },
    {
     "data": {
      "image/png": "[encoded data removed]",
      "text/plain": [
       "<Figure size 432x288 with 1 Axes>"
      ]
     },
     "metadata": {},
     "output_type": "display_data"
    }
   ],
   "source": [
    "#let's visualise a pie chart for events by category\n",
    "Key_words = pd.DataFrame(dframe_count['category'].value_counts())\n",
    "Key_words.columns=['Count']\n",
    "Key_words.plot(kind='pie', y='Count',legend=True,radius=2.8)"
   ]
  },
  {
   "cell_type": "markdown",
   "metadata": {},
   "source": [
    "Concerts in Paris occupy the biggest part of the pie!"
   ]
  },
  {
   "cell_type": "code",
   "execution_count": 21,
   "metadata": {},
   "outputs": [
    {
     "data": {
      "text/plain": [
       "Text(-2.700000000000003, 0.5, 'EVENEMENT')"
      ]
     },
     "execution_count": 21,
     "metadata": {},
     "output_type": "execute_result"
    },
    {
     "data": {
      "image/png": "[encoded data removed]",
      "text/plain": [
       "<Figure size 360x360 with 1 Axes>"
      ]
     },
     "metadata": {
      "needs_background": "light"
     },
     "output_type": "display_data"
    }
   ],
   "source": [
    "#lets check the events entry types proportions\n",
    "sns.catplot('entry',data=popular_events,kind=\"count\")\n",
    "plt.title('ACCES AU EVENEMENTS',size= 14,color='black')\n",
    "plt.xlabel(\"TYPE D'ACCES\", size=10)\n",
    "plt.ylabel('EVENEMENT',size=10)"
   ]
  },
  {
   "cell_type": "markdown",
   "metadata": {},
   "source": [
    "looks like the majority of events needs reservation!"
   ]
  },
  {
   "cell_type": "code",
   "execution_count": 22,
   "metadata": {},
   "outputs": [
    {
     "data": {
      "text/plain": [
       "(array([ 0,  1,  2,  3,  4,  5,  6,  7,  8,  9, 10, 11, 12, 13, 14, 15, 16,\n",
       "        17, 18, 19, 20, 21, 22, 23, 24, 25, 26, 27, 28, 29, 30, 31, 32, 33,\n",
       "        34, 35, 36, 37, 38, 39, 40, 41, 42, 43]),\n",
       " <a list of 44 Text xticklabel objects>)"
      ]
     },
     "execution_count": 22,
     "metadata": {},
     "output_type": "execute_result"
    },
    {
     "data": {
      "image/png": "[encoded data removed]",
      "text/plain": [
       "<Figure size 956.875x216 with 1 Axes>"
      ]
     },
     "metadata": {
      "needs_background": "light"
     },
     "output_type": "display_data"
    }
   ],
   "source": [
    "#let us check them based on the category\n",
    "sns.catplot(x='Catégorie', hue=\"entry\", data=popular_events, kind=\"count\",aspect=4,height=3)\n",
    "plt.xticks(rotation=90,size=10)"
   ]
  },
  {
   "cell_type": "code",
   "execution_count": 23,
   "metadata": {
    "scrolled": true
   },
   "outputs": [
    {
     "data": {
      "text/plain": [
       "<matplotlib.axes._subplots.AxesSubplot at 0x18a29f30>"
      ]
     },
     "execution_count": 23,
     "metadata": {},
     "output_type": "execute_result"
    },
    {
     "data": {
      "image/png": "[encoded data removed]",
      "text/plain": [
       "<Figure size 432x288 with 1 Axes>"
      ]
     },
     "metadata": {},
     "output_type": "display_data"
    }
   ],
   "source": [
    "#let's visualise a pie chart for events by \"entry type\"\n",
    "Key_words = pd.DataFrame(popular_events['entry'].value_counts())\n",
    "Key_words.columns=['Count']\n",
    "Key_words.plot(kind='pie', y='Count',legend=True,radius=2.6)"
   ]
  },
  {
   "cell_type": "markdown",
   "metadata": {},
   "source": [
    "if you are going to an event in Paris make sure to reserve in advance since half of the events need reservation!"
   ]
  },
  {
   "cell_type": "markdown",
   "metadata": {},
   "source": [
    "NOW LET VISUALISE THE LOCATION OF SOME EVENTS ON PARIS MAPP"
   ]
  },
  {
   "cell_type": "code",
   "execution_count": 24,
   "metadata": {},
   "outputs": [
    {
     "data": {
      "text/html": [
       "<div>\n",
       "<style scoped>\n",
       "    .dataframe tbody tr th:only-of-type {\n",
       "        vertical-align: middle;\n",
       "    }\n",
       "\n",
       "    .dataframe tbody tr th {\n",
       "        vertical-align: top;\n",
       "    }\n",
       "\n",
       "    .dataframe thead th {\n",
       "        text-align: right;\n",
       "    }\n",
       "</style>\n",
       "<table border=\"1\" class=\"dataframe\">\n",
       "  <thead>\n",
       "    <tr style=\"text-align: right;\">\n",
       "      <th></th>\n",
       "      <th>Nom du lieu</th>\n",
       "      <th>Coordonnées géographiques</th>\n",
       "    </tr>\n",
       "  </thead>\n",
       "  <tbody>\n",
       "    <tr>\n",
       "      <td>0</td>\n",
       "      <td>Médiathèque Hélène Berr</td>\n",
       "      <td>48.842598,2.397432</td>\n",
       "    </tr>\n",
       "    <tr>\n",
       "      <td>1</td>\n",
       "      <td>Librairie des Éditeurs associés</td>\n",
       "      <td>48.8481726947,2.33968563809</td>\n",
       "    </tr>\n",
       "    <tr>\n",
       "      <td>2</td>\n",
       "      <td>Bibliothèque Parmentier</td>\n",
       "      <td>48.860193,2.37936</td>\n",
       "    </tr>\n",
       "    <tr>\n",
       "      <td>3</td>\n",
       "      <td>Le Passage vers les Etoiles</td>\n",
       "      <td>48.8629065,2.3826301</td>\n",
       "    </tr>\n",
       "    <tr>\n",
       "      <td>4</td>\n",
       "      <td>Les Disquaires</td>\n",
       "      <td>48.8538189,2.3756366</td>\n",
       "    </tr>\n",
       "    <tr>\n",
       "      <td>5</td>\n",
       "      <td>La Gare Jazz</td>\n",
       "      <td>48.8949443,2.3821416</td>\n",
       "    </tr>\n",
       "    <tr>\n",
       "      <td>6</td>\n",
       "      <td>La Bellevilloise</td>\n",
       "      <td>48.86848,2.39217</td>\n",
       "    </tr>\n",
       "    <tr>\n",
       "      <td>7</td>\n",
       "      <td>Bibliothèque Louise Walser-Gaillard (ex Chaptal)</td>\n",
       "      <td>48.881101,2.33234</td>\n",
       "    </tr>\n",
       "    <tr>\n",
       "      <td>8</td>\n",
       "      <td>Centre Paris Anim Daviel</td>\n",
       "      <td>48.8281281757,2.3448459184</td>\n",
       "    </tr>\n",
       "    <tr>\n",
       "      <td>9</td>\n",
       "      <td>Centre Paris Anim' Maurice Ravel</td>\n",
       "      <td>48.84156,2.411535</td>\n",
       "    </tr>\n",
       "  </tbody>\n",
       "</table>\n",
       "</div>"
      ],
      "text/plain": [
       "                                        Nom du lieu  \\\n",
       "0                           Médiathèque Hélène Berr   \n",
       "1                   Librairie des Éditeurs associés   \n",
       "2                           Bibliothèque Parmentier   \n",
       "3                       Le Passage vers les Etoiles   \n",
       "4                                    Les Disquaires   \n",
       "5                                      La Gare Jazz   \n",
       "6                                  La Bellevilloise   \n",
       "7  Bibliothèque Louise Walser-Gaillard (ex Chaptal)   \n",
       "8                          Centre Paris Anim Daviel   \n",
       "9                  Centre Paris Anim' Maurice Ravel   \n",
       "\n",
       "     Coordonnées géographiques  \n",
       "0           48.842598,2.397432  \n",
       "1  48.8481726947,2.33968563809  \n",
       "2            48.860193,2.37936  \n",
       "3         48.8629065,2.3826301  \n",
       "4         48.8538189,2.3756366  \n",
       "5         48.8949443,2.3821416  \n",
       "6             48.86848,2.39217  \n",
       "7            48.881101,2.33234  \n",
       "8   48.8281281757,2.3448459184  \n",
       "9            48.84156,2.411535  "
      ]
     },
     "execution_count": 24,
     "metadata": {},
     "output_type": "execute_result"
    }
   ],
   "source": [
    "#let's do a dataframe showing the adress and the location of the events\n",
    "Paris_Events = DataFrame(dframe, columns=['Nom du lieu','Coordonnées géographiques'])\n",
    "Paris_Events.head(10)"
   ]
  },
  {
   "cell_type": "code",
   "execution_count": 25,
   "metadata": {},
   "outputs": [
    {
     "data": {
      "text/html": [
       "<div>\n",
       "<style scoped>\n",
       "    .dataframe tbody tr th:only-of-type {\n",
       "        vertical-align: middle;\n",
       "    }\n",
       "\n",
       "    .dataframe tbody tr th {\n",
       "        vertical-align: top;\n",
       "    }\n",
       "\n",
       "    .dataframe thead th {\n",
       "        text-align: right;\n",
       "    }\n",
       "</style>\n",
       "<table border=\"1\" class=\"dataframe\">\n",
       "  <thead>\n",
       "    <tr style=\"text-align: right;\">\n",
       "      <th></th>\n",
       "      <th>Latitude</th>\n",
       "      <th>Longitude</th>\n",
       "    </tr>\n",
       "  </thead>\n",
       "  <tbody>\n",
       "    <tr>\n",
       "      <td>0</td>\n",
       "      <td>48.842598</td>\n",
       "      <td>2.397432</td>\n",
       "    </tr>\n",
       "    <tr>\n",
       "      <td>1</td>\n",
       "      <td>48.848173</td>\n",
       "      <td>2.339686</td>\n",
       "    </tr>\n",
       "    <tr>\n",
       "      <td>2</td>\n",
       "      <td>48.860193</td>\n",
       "      <td>2.379360</td>\n",
       "    </tr>\n",
       "    <tr>\n",
       "      <td>3</td>\n",
       "      <td>48.862907</td>\n",
       "      <td>2.382630</td>\n",
       "    </tr>\n",
       "    <tr>\n",
       "      <td>4</td>\n",
       "      <td>48.853819</td>\n",
       "      <td>2.375637</td>\n",
       "    </tr>\n",
       "  </tbody>\n",
       "</table>\n",
       "</div>"
      ],
      "text/plain": [
       "    Latitude  Longitude\n",
       "0  48.842598   2.397432\n",
       "1  48.848173   2.339686\n",
       "2  48.860193   2.379360\n",
       "3  48.862907   2.382630\n",
       "4  48.853819   2.375637"
      ]
     },
     "execution_count": 25,
     "metadata": {},
     "output_type": "execute_result"
    }
   ],
   "source": [
    "# let's split the corrdinates and get longitude and lattitude\n",
    "dframe_coo = dframe['Coordonnées géographiques']\n",
    "dframe_coo = dframe_coo.str.split(',', expand=True)\n",
    "dframe_coo = dframe_coo.rename(columns = {0:'Latitude',1:'Longitude'})\n",
    "dframe_coo = dframe_coo.astype(float)\n",
    "dframe_coo.head()"
   ]
  },
  {
   "cell_type": "code",
   "execution_count": 26,
   "metadata": {},
   "outputs": [
    {
     "data": {
      "text/html": [
       "<div style=\"width:100%;\"><div style=\"position:relative;width:100%;height:0;padding-bottom:60%;\"><iframe src=\"data:text/html;charset=utf-8;base64,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\" style=\"position:absolute;width:100%;height:100%;left:0;top:0;border:none !important;\" allowfullscreen webkitallowfullscreen mozallowfullscreen></iframe></div></div>"
      ],
      "text/plain": [
       "<folium.folium.Map at 0x189b7990>"
      ]
     },
     "execution_count": 26,
     "metadata": {},
     "output_type": "execute_result"
    }
   ],
   "source": [
    "#using folium librairy we get the map of Paris\n",
    "Paris= folium.Map(location=[48.8534088, 2.3487999], zoom_start=12)\n",
    "Paris"
   ]
  },
  {
   "cell_type": "code",
   "execution_count": 27,
   "metadata": {},
   "outputs": [
    {
     "data": {
      "text/html": [
       "<div style=\"width:100%;\"><div style=\"position:relative;width:100%;height:0;padding-bottom:60%;\"><iframe src=\"data:text/html;charset=utf-8;base64,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\" style=\"position:absolute;width:100%;height:100%;left:0;top:0;border:none !important;\" allowfullscreen webkitallowfullscreen mozallowfullscreen></iframe></div></div>"
      ],
      "text/plain": [
       "<folium.folium.Map at 0x1b00f0b0>"
      ]
     },
     "execution_count": 27,
     "metadata": {},
     "output_type": "execute_result"
    }
   ],
   "source": [
    "# now we display four evnts on the map to show their location\n",
    "Paris= folium.Map(location=[48.8534088, 2.3487999], zoom_start=12)\n",
    "folium.Marker(location=[48.842598, 2.397432],tooltip= 0,popup='Mt. Hood Meadows',icon=folium.Icon(color='green')).add_to(Paris)\n",
    "folium.Marker(location=[48.848173, 2.339686],tooltip= 1,popup='Mt. Hood Meadows',icon=folium.Icon(color='red')).add_to(Paris)\n",
    "folium.Marker(location=[48.860193, 2.379360],tooltip= 2,popup='Mt. Hood Meadows',icon=folium.Icon(color='blue')).add_to(Paris)\n",
    "folium.Marker(location=[48.862907, 2.382630],tooltip= 3,popup='Mt. Hood Meadows',icon=folium.Icon(color='orange')).add_to(Paris)\n",
    "folium.Marker(location=[48.853819, 2.375637],tooltip= 4,popup='Mt. Hood Meadows',icon=folium.Icon(color='black')).add_to(Paris)\n",
    "Paris"
   ]
  },
  {
   "cell_type": "markdown",
   "metadata": {},
   "source": [
    "THANKS FOR WATCHING!\n",
    "\n",
    "Sami & Ruth"
   ]
  },
  {
   "cell_type": "code",
   "execution_count": null,
   "metadata": {},
   "outputs": [],
   "source": []
  }
 ],
 "metadata": {
  "kernelspec": {
   "display_name": "Python 3",
   "language": "python",
   "name": "python3"
  },
  "language_info": {
   "codemirror_mode": {
    "name": "ipython",
    "version": 3
   },
   "file_extension": ".py",
   "mimetype": "text/x-python",
   "name": "python",
   "nbconvert_exporter": "python",
   "pygments_lexer": "ipython3",
   "version": "3.7.4"
  }
 },
 "nbformat": 4,
 "nbformat_minor": 2
}
