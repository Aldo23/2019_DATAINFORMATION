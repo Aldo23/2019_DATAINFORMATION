{
 "cells": [
  {
   "cell_type": "code",
   "execution_count": 1,
   "metadata": {},
   "outputs": [],
   "source": [
    "Design_bD_19_20 = {\"First_Name\":[],\"Last_Name\":[],\"Age\":[],\"Sex\":[],\"Country\":[]};"
   ]
  },
  {
   "cell_type": "code",
   "execution_count": 2,
   "metadata": {},
   "outputs": [],
   "source": [
    "Design_bD_19_20[\"First_Name\"]= [\"Krittika\",\"Jaisu\",\"Desmond\",\"Rison\",\"Jean\",\"Lea\",\"Natacha\",\"Lorenzo\",\"Sami\",\"Ruth\",\"Nicolas\",\"Behdad\",\"Sukumar\"];"
   ]
  },
  {
   "cell_type": "code",
   "execution_count": 3,
   "metadata": {},
   "outputs": [],
   "source": [
    "Design_bD_19_20[\"Last_Name\"]= [\"W\",\"J\",\"L\",\"P\",\"A\",\"K\",\"B\",\"F\",\"S\",\"N\",\"D\",\"Y\",\"S\"];"
   ]
  },
  {
   "cell_type": "code",
   "execution_count": 4,
   "metadata": {},
   "outputs": [],
   "source": [
    "Design_bD_19_20[\"Age\"]= [26,29,30,28,29,25,24,34,35,27,34,23,18];"
   ]
  },
  {
   "cell_type": "code",
   "execution_count": 5,
   "metadata": {},
   "outputs": [],
   "source": [
    "Design_bD_19_20[\"Sex\"]= [\"Female\",\"Male\",\"Male\",\"Male\",\"Male\",\"Female\",\"Female\",\"Male\",\"Male\",\"Female\",\"Male\",\"Male\"];"
   ]
  },
  {
   "cell_type": "code",
   "execution_count": 6,
   "metadata": {},
   "outputs": [],
   "source": [
    "Design_bD_19_20[\"Country\"]= [\"India\",\"India\",\"Hong_Hong\",\"India\",\"Africa\",\"Lebanon\",\"Lebanon\",\"Italy\",\"Lebanon\",\"Peru\",\"France\",\"Iran\",\"India\"];"
   ]
  },
  {
   "cell_type": "code",
   "execution_count": 7,
   "metadata": {},
   "outputs": [
    {
     "data": {
      "text/plain": [
       "['W', 'J', 'L', 'P', 'A', 'K', 'B', 'F', 'S', 'N', 'D', 'Y', 'S']"
      ]
     },
     "execution_count": 7,
     "metadata": {},
     "output_type": "execute_result"
    }
   ],
   "source": [
    "Design_bD_19_20[\"Last_Name\"]"
   ]
  },
  {
   "cell_type": "code",
   "execution_count": 9,
   "metadata": {},
   "outputs": [
    {
     "data": {
      "text/plain": [
       "{'First_Name': ['Krittika',\n",
       "  'Jaisu',\n",
       "  'Desmond',\n",
       "  'Rison',\n",
       "  'Jean',\n",
       "  'Lea',\n",
       "  'Natacha',\n",
       "  'Lorenzo',\n",
       "  'Sami',\n",
       "  'Ruth',\n",
       "  'Nicolas',\n",
       "  'Behdad',\n",
       "  'Sukumar'],\n",
       " 'Last_Name': ['W',\n",
       "  'J',\n",
       "  'L',\n",
       "  'P',\n",
       "  'A',\n",
       "  'K',\n",
       "  'B',\n",
       "  'F',\n",
       "  'S',\n",
       "  'N',\n",
       "  'D',\n",
       "  'Y',\n",
       "  'S'],\n",
       " 'Age': [26, 29, 30, 28, 29, 25, 24, 34, 35, 27, 34, 23, 18],\n",
       " 'Sex': ['Female',\n",
       "  'Male',\n",
       "  'Male',\n",
       "  'Male',\n",
       "  'Male',\n",
       "  'Female',\n",
       "  'Female',\n",
       "  'Male',\n",
       "  'Male',\n",
       "  'Female',\n",
       "  'Male',\n",
       "  'Male'],\n",
       " 'Country': ['India',\n",
       "  'India',\n",
       "  'Hong_Hong',\n",
       "  'India',\n",
       "  'Africa',\n",
       "  'Lebanon',\n",
       "  'Lebanon',\n",
       "  'Italy',\n",
       "  'Lebanon',\n",
       "  'Peru',\n",
       "  'France',\n",
       "  'Iran',\n",
       "  'India']}"
      ]
     },
     "execution_count": 9,
     "metadata": {},
     "output_type": "execute_result"
    }
   ],
   "source": [
    "Design_bD_19_20"
   ]
  },
  {
   "cell_type": "code",
   "execution_count": null,
   "metadata": {},
   "outputs": [],
   "source": []
  }
 ],
 "metadata": {
  "kernelspec": {
   "display_name": "Python 3",
   "language": "python",
   "name": "python3"
  },
  "language_info": {
   "codemirror_mode": {
    "name": "ipython",
    "version": 3
   },
   "file_extension": ".py",
   "mimetype": "text/x-python",
   "name": "python",
   "nbconvert_exporter": "python",
   "pygments_lexer": "ipython3",
   "version": "3.7.3"
  }
 },
 "nbformat": 4,
 "nbformat_minor": 2
}
