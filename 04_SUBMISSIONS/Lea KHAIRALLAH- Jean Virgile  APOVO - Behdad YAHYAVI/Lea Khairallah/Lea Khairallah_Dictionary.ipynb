{
 "cells": [
  {
   "cell_type": "code",
   "execution_count": null,
   "metadata": {},
   "outputs": [],
   "source": []
  },
  {
   "cell_type": "code",
   "execution_count": 15,
   "metadata": {},
   "outputs": [
    {
     "data": {
      "text/plain": [
       "{'Name': ('Virgile',\n",
       "  'Bou Akl',\n",
       "  'Dijoux',\n",
       "  'Fauvette',\n",
       "  'Inga Gullen',\n",
       "  'Karayil',\n",
       "  'Khairallah',\n",
       "  'Leung',\n",
       "  'Salameh',\n",
       "  'Thundiyil,Vedhachalam',\n",
       "  'Walia',\n",
       "  'Yahyavi'),\n",
       " 'Surname': ('Jean',\n",
       "  'Natacha',\n",
       "  'Nicolas',\n",
       "  'Lorenzo',\n",
       "  'Ruth',\n",
       "  'Rison',\n",
       "  'Lea',\n",
       "  'Desmond',\n",
       "  'Sami',\n",
       "  'Jaisu',\n",
       "  'Sukumar',\n",
       "  'Krittika',\n",
       "  'Behdad'),\n",
       " 'Nationality': ('Africa',\n",
       "  'Lebanon',\n",
       "  'France',\n",
       "  'Italy',\n",
       "  'Peru',\n",
       "  'India',\n",
       "  'Lebanon',\n",
       "  'Hong Kong',\n",
       "  'Lebanon',\n",
       "  'India',\n",
       "  'India',\n",
       "  'India',\n",
       "  'Iran'),\n",
       " 'Age': ('29',\n",
       "  '24',\n",
       "  '26',\n",
       "  '28',\n",
       "  '30',\n",
       "  '29',\n",
       "  '25',\n",
       "  '29',\n",
       "  '39',\n",
       "  '29',\n",
       "  '23',\n",
       "  '26',\n",
       "  '23')}"
      ]
     },
     "execution_count": 15,
     "metadata": {},
     "output_type": "execute_result"
    }
   ],
   "source": [
    "Dict = {}\n",
    "Dict ['Name'] = 'Virgile','Bou Akl','Dijoux','Fauvette','Inga Gullen','Karayil','Khairallah','Leung','Salameh','Thundiyil,''Vedhachalam','Walia','Yahyavi'\n",
    "Dict ['Surname'] = 'Jean','Natacha','Nicolas','Lorenzo','Ruth','Rison','Lea','Desmond','Sami','Jaisu','Sukumar','Krittika','Behdad'\n",
    "Dict ['Nationality'] ='Africa','Lebanon','France','Italy','Peru','India','Lebanon','Hong Kong','Lebanon','India','India','India','Iran'\n",
    "Dict['Age'] = '29','24','26','28','30','29','25','29','39','29','23','26','23'\n",
    "Dict"
   ]
  },
  {
   "cell_type": "code",
   "execution_count": 17,
   "metadata": {},
   "outputs": [
    {
     "name": "stdout",
     "output_type": "stream",
     "text": [
      "Karayil\n",
      "Rison\n",
      "India\n",
      "29\n"
     ]
    }
   ],
   "source": [
    "print(Dict['Name'][5])\n",
    "print (Dict['Surname'][5])\n",
    "print (Dict['Nationality'][5])\n",
    "print (Dict['Age'][5])"
   ]
  },
  {
   "cell_type": "code",
   "execution_count": null,
   "metadata": {},
   "outputs": [],
   "source": []
  },
  {
   "cell_type": "code",
   "execution_count": null,
   "metadata": {},
   "outputs": [],
   "source": []
  }
 ],
 "metadata": {
  "kernelspec": {
   "display_name": "Python 3",
   "language": "python",
   "name": "python3"
  },
  "language_info": {
   "codemirror_mode": {
    "name": "ipython",
    "version": 3
   },
   "file_extension": ".py",
   "mimetype": "text/x-python",
   "name": "python",
   "nbconvert_exporter": "python",
   "pygments_lexer": "ipython3",
   "version": "3.7.3"
  }
 },
 "nbformat": 4,
 "nbformat_minor": 2
}
